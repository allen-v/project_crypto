{
 "cells": [
  {
   "cell_type": "code",
   "execution_count": 80,
   "metadata": {},
   "outputs": [
    {
     "name": "stdout",
     "output_type": "stream",
     "text": [
      "['ace', 'alpaca', 'ascendex', 'bequant', 'bigone', 'binance', 'binancecoinm', 'binanceus', 'binanceusdm', 'bingx', 'bit2c', 'bitbank', 'bitbns', 'bitcoincom', 'bitfinex', 'bitfinex2', 'bitflyer', 'bitget', 'bithumb', 'bitmart', 'bitmex', 'bitopro', 'bitpanda', 'bitrue', 'bitso', 'bitstamp', 'bitteam', 'bitvavo', 'bl3p', 'blockchaincom', 'blofin', 'btcalpha', 'btcbox', 'btcmarkets', 'btcturk', 'bybit', 'cex', 'coinbase', 'coinbaseadvanced', 'coinbaseexchange', 'coinbaseinternational', 'coincheck', 'coinex', 'coinlist', 'coinmate', 'coinmetro', 'coinone', 'coinsph', 'coinspot', 'cryptocom', 'currencycom', 'delta', 'deribit', 'digifinex', 'exmo', 'fmfwio', 'gate', 'gateio', 'gemini', 'hashkey', 'hitbtc', 'hollaex', 'htx', 'huobi', 'huobijp', 'hyperliquid', 'idex', 'independentreserve', 'indodax', 'kraken', 'krakenfutures', 'kucoin', 'kucoinfutures', 'kuna', 'latoken', 'lbank', 'luno', 'lykke', 'mercado', 'mexc', 'ndax', 'novadax', 'oceanex', 'okcoin', 'okx', 'onetrading', 'oxfun', 'p2b', 'paradex', 'paymium', 'phemex', 'poloniex', 'poloniexfutures', 'probit', 'timex', 'tokocrypto', 'tradeogre', 'upbit', 'vertex', 'wavesexchange', 'wazirx', 'whitebit', 'woo', 'woofipro', 'xt', 'yobit', 'zaif', 'zonda']\n"
     ]
    }
   ],
   "source": [
    "import ccxt\n",
    "import os\n",
    "from dotenv import load_dotenv\n",
    "print(ccxt.exchanges)"
   ]
  },
  {
   "cell_type": "code",
   "execution_count": 81,
   "metadata": {},
   "outputs": [
    {
     "data": {
      "text/plain": [
       "True"
      ]
     },
     "execution_count": 81,
     "metadata": {},
     "output_type": "execute_result"
    }
   ],
   "source": [
    "load_dotenv()"
   ]
  },
  {
   "cell_type": "code",
   "execution_count": 82,
   "metadata": {},
   "outputs": [
    {
     "name": "stdout",
     "output_type": "stream",
     "text": [
      "markets: 1038\n"
     ]
    }
   ],
   "source": [
    "# 1) PUBLIC: no creds yet (avoids JWT during load_markets)\n",
    "exchange = ccxt.coinbase({\"enableRateLimit\": True})\n",
    "markets = exchange.load_markets()\n",
    "print(\"markets:\", len(markets))"
   ]
  },
  {
   "cell_type": "code",
   "execution_count": 83,
   "metadata": {},
   "outputs": [],
   "source": [
    "# 2) Read creds from .env\n",
    "api_key = os.getenv(\"COINBASE_API_KEY\")  # e.g. organizations/ORG_ID/apiKeys/KEY_ID\n",
    "secret_env = os.getenv(\"COINBASE_SECRET\")  # your EC PRIVATE KEY"
   ]
  },
  {
   "cell_type": "code",
   "execution_count": 84,
   "metadata": {},
   "outputs": [],
   "source": [
    "# If the PEM is stored with \\n escapes in .env, expand them:\n",
    "if secret_env and \"\\\\n\" in secret_env:\n",
    "    secret_env = secret_env.replace(\"\\\\n\", \"\\n\")"
   ]
  },
  {
   "cell_type": "code",
   "execution_count": 85,
   "metadata": {},
   "outputs": [],
   "source": [
    "# Sanity checks (helpful during setup)\n",
    "assert api_key, \"Missing COINBASE_API_KEY\"\n",
    "assert secret_env and \"BEGIN EC PRIVATE KEY\" in secret_env, \"COINBASE_SECRET is not a valid EC PEM\""
   ]
  },
  {
   "cell_type": "code",
   "execution_count": 86,
   "metadata": {},
   "outputs": [],
   "source": [
    "# 3) Set creds for private endpoints\n",
    "exchange.apiKey = api_key\n",
    "exchange.secret = secret_env\n",
    "# NOTE: don't set `password` for coinbase Advanced Trade."
   ]
  },
  {
   "cell_type": "code",
   "execution_count": 87,
   "metadata": {},
   "outputs": [
    {
     "name": "stdout",
     "output_type": "stream",
     "text": [
      "ticker: BTC/USD 117723.63\n"
     ]
    }
   ],
   "source": [
    "# 4) Public calls\n",
    "ticker = exchange.fetch_ticker(\"BTC/USD\")\n",
    "print(\"ticker:\", ticker[\"symbol\"], ticker[\"last\"])"
   ]
  },
  {
   "cell_type": "code",
   "execution_count": 88,
   "metadata": {},
   "outputs": [
    {
     "name": "stdout",
     "output_type": "stream",
     "text": [
      "ohlcv rows: 200\n"
     ]
    }
   ],
   "source": [
    "# 6) OHLCV (use slash symbol, '15m' timeframe)\n",
    "ohlcv = exchange.fetch_ohlcv(\"BTC/USD\", timeframe=\"15m\", limit=200)\n",
    "print(\"ohlcv rows:\", len(ohlcv))"
   ]
  },
  {
   "cell_type": "code",
   "execution_count": null,
   "metadata": {},
   "outputs": [],
   "source": []
  },
  {
   "cell_type": "code",
   "execution_count": null,
   "metadata": {},
   "outputs": [],
   "source": []
  },
  {
   "cell_type": "code",
   "execution_count": null,
   "metadata": {},
   "outputs": [],
   "source": []
  },
  {
   "cell_type": "code",
   "execution_count": null,
   "metadata": {},
   "outputs": [],
   "source": []
  },
  {
   "cell_type": "code",
   "execution_count": 76,
   "metadata": {},
   "outputs": [],
   "source": [
    "exchange = ccxt.coinbase({\n",
    "    \"apiKey\": api_key_coinbase,\n",
    "    \"secret\": secret_coinbase,\n",
    "    \"enableRateLimit\": True\n",
    "})\n"
   ]
  },
  {
   "cell_type": "code",
   "execution_count": null,
   "metadata": {},
   "outputs": [],
   "source": [
    "markets = exchange.load_markets()\n",
    "ticker = exchange.fetch_ticker('BTC/USD')\n",
    "print(ticker)"
   ]
  },
  {
   "cell_type": "code",
   "execution_count": null,
   "metadata": {},
   "outputs": [],
   "source": [
    "balance = exchange.fetch_balance()\n",
    "print(balance)"
   ]
  },
  {
   "cell_type": "code",
   "execution_count": null,
   "metadata": {},
   "outputs": [],
   "source": [
    "data=exchange.fetch_ohlcv(\"BTC-USD\",\"15m\",limit=200)\n",
    "print(data)"
   ]
  }
 ],
 "metadata": {
  "kernelspec": {
   "display_name": "source-XZT3_XTP-py3.8",
   "language": "python",
   "name": "python3"
  },
  "language_info": {
   "codemirror_mode": {
    "name": "ipython",
    "version": 3
   },
   "file_extension": ".py",
   "mimetype": "text/x-python",
   "name": "python",
   "nbconvert_exporter": "python",
   "pygments_lexer": "ipython3",
   "version": "3.8.8"
  }
 },
 "nbformat": 4,
 "nbformat_minor": 2
}
