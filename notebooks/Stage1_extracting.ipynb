{
 "cells": [
  {
   "cell_type": "code",
   "execution_count": 1,
   "metadata": {},
   "outputs": [],
   "source": [
    "# import ccxt\n",
    "# from dotenv import load_dotenv\n",
    "# import os\n",
    "\n",
    "# # Load environment variables from .env file\n",
    "# load_dotenv()\n",
    "\n",
    "# # List of exchanges to set up\n",
    "# exchanges = {\n",
    "#     \"coinbase\": ccxt.coinbase,\n",
    "#     \"bitflyer\": ccxt.bitflyer,\n",
    "#     \"gemini\": ccxt.gemini,\n",
    "#     \"kraken\": ccxt.kraken,\n",
    "#     \"bitstamp\": ccxt.bitstamp\n",
    "# }\n",
    "\n",
    "# for exchange_name, exchange_class in exchanges.items():\n",
    "#     api_key = os.getenv(f\"{exchange_name.upper()}_API_KEY\")\n",
    "#     secret_key = os.getenv(f\"{exchange_name.upper()}_SECRET\").replace(\"\\\\n\", \"\\n\")\n",
    "\n",
    "#     # Set up the exchange with the corrected secret\n",
    "#     exchange = exchange_class({\n",
    "#         \"apiKey\": api_key,\n",
    "#         \"secret\": secret_key,\n",
    "#         \"enableRateLimit\": True\n",
    "#     })\n",
    "\n",
    "#     # Load markets and fetch ticker\n",
    "#     markets = exchange.load_markets()\n",
    "#     ticker = exchange.fetch_ticker('BTC/USD')\n",
    "#     print(f\"{exchange_name.upper()} BTC/USD:\", ticker)\n"
   ]
  },
  {
   "cell_type": "code",
   "execution_count": 2,
   "metadata": {},
   "outputs": [],
   "source": [
    "# print(dir(ccxt.kraken())) "
   ]
  },
  {
   "cell_type": "markdown",
   "metadata": {},
   "source": [
    "kraken timestamp debuging\n"
   ]
  },
  {
   "cell_type": "code",
   "execution_count": 3,
   "metadata": {},
   "outputs": [],
   "source": [
    "# import ccxt\n",
    "# from dotenv import load_dotenv\n",
    "# import os\n",
    "\n",
    "# # Load environment variables from .env file\n",
    "# load_dotenv()\n",
    "\n",
    "# # Initialize Kraken exchange\n",
    "# kraken = ccxt.kraken({\n",
    "#     \"enableRateLimit\": True\n",
    "# })\n",
    "\n",
    "# try:\n",
    "#     # Load Kraken markets\n",
    "#     kraken.load_markets()\n",
    "\n",
    "#     # Fetch ticker data for BTC/USD\n",
    "#     ticker = kraken.fetch_ticker('BTC/USD')\n",
    "\n",
    "#     # Fetch the current server time from Kraken as a fallback timestamp\n",
    "#     server_time = kraken.fetch_time()  # Unix timestamp (milliseconds)\n",
    "\n",
    "#     # Convert server time to human-readable format\n",
    "#     readable_server_time = kraken.iso8601(server_time)\n",
    "\n",
    "#     # Print the full ticker response for Kraken for debugging\n",
    "#     print(\"Full Kraken Ticker Response:\", ticker)\n",
    "\n",
    "#     # Log the information with fallback server time\n",
    "#     print(\"Kraken BTC/USD Data:\")\n",
    "#     print(f\"  Symbol: {ticker.get('symbol', 'N/A')}\")\n",
    "#     print(f\"  Fallback Timestamp (Server Time): {readable_server_time}\")\n",
    "#     print(f\"  Bid: {ticker.get('bid', 'None')}\")\n",
    "#     print(f\"  Ask: {ticker.get('ask', 'None')}\")\n",
    "#     print(f\"  Last: {ticker.get('last', 'None')}\")\n",
    "#     print(f\"  High: {ticker.get('high', 'None')}\")\n",
    "#     print(f\"  Low: {ticker.get('low', 'None')}\")\n",
    "#     print(f\"  Base Volume: {ticker.get('baseVolume', 'None')}\")\n",
    "#     print(f\"  Quote Volume: {ticker.get('quoteVolume', 'None')}\")\n",
    "\n",
    "# except ccxt.NetworkError as e:\n",
    "#     print(f\"Network error while fetching data from Kraken: {e}\")\n",
    "# except ccxt.ExchangeError as e:\n",
    "#     print(f\"Exchange error from Kraken: {e}\")\n",
    "# except Exception as e:\n",
    "#     print(f\"An unexpected error occurred with Kraken: {e}\")\n"
   ]
  },
  {
   "cell_type": "markdown",
   "metadata": {},
   "source": [
    "TO CHECK THE RATE LIMIT FOR EXCHANGES"
   ]
  },
  {
   "cell_type": "code",
   "execution_count": 1,
   "metadata": {},
   "outputs": [
    {
     "name": "stdout",
     "output_type": "stream",
     "text": [
      "| Exchange | Rate Limit (ms) | Rate Limit (s) | Requests per Second | Rank (Fastest) |\n",
      "|----------|-----------------|----------------|---------------------|-----------------|\n",
      "| Coinbase | 34              | 0.034          | 29.41               | 1 |\n",
      "| Bitstamp | 75              | 0.075          | 13.33               | 2 |\n",
      "| Gemini   | 100             | 0.100          | 10.00               | 3 |\n",
      "| Bitflyer | 1000            | 1.000          | 1.00                | 4 |\n",
      "| Kraken   | 1000            | 1.000          | 1.00                | 5 |\n"
     ]
    }
   ],
   "source": [
    "# import ccxt\n",
    "# from dotenv import load_dotenv\n",
    "# import os\n",
    "\n",
    "# # Load environment variables from .env file\n",
    "# load_dotenv()\n",
    "\n",
    "# # List of exchanges to set up\n",
    "# exchanges = {\n",
    "#     \"coinbase\": ccxt.coinbase,\n",
    "#     \"bitflyer\": ccxt.bitflyer,\n",
    "#     \"gemini\": ccxt.gemini,\n",
    "#     \"kraken\": ccxt.kraken,\n",
    "#     \"bitstamp\": ccxt.bitstamp\n",
    "# }\n",
    "\n",
    "# # Create a list to hold the data\n",
    "# rate_limit_data = []\n",
    "\n",
    "# for exchange_name, exchange_class in exchanges.items():\n",
    "#     # Initialize the exchange\n",
    "#     exchange = exchange_class()\n",
    "\n",
    "#     # Check the rate limit\n",
    "#     rate_limit = exchange.rateLimit\n",
    "#     rate_limit_seconds = rate_limit / 1000\n",
    "#     requests_per_second = 1000 / rate_limit\n",
    "\n",
    "#     # Append the data to the list\n",
    "#     rate_limit_data.append({\n",
    "#         \"Exchange\": exchange_name.capitalize(),\n",
    "#         \"Rate Limit (ms)\": rate_limit,\n",
    "#         \"Rate Limit (s)\": f\"{rate_limit_seconds:.3f}\",\n",
    "#         \"Requests per Second\": f\"{requests_per_second:.2f}\"\n",
    "#     })\n",
    "\n",
    "# # Sort the list by rate limit to rank them\n",
    "# rate_limit_data = sorted(rate_limit_data, key=lambda x: x[\"Rate Limit (ms)\"])\n",
    "\n",
    "# # Calculate the maximum length of each column to ensure consistent spacing\n",
    "# max_lengths = {\n",
    "#     \"Exchange\": max(len(\"Exchange\"), max(len(data[\"Exchange\"]) for data in rate_limit_data)),\n",
    "#     \"Rate Limit (ms)\": max(len(\"Rate Limit (ms)\"), max(len(str(data[\"Rate Limit (ms)\"])) for data in rate_limit_data)),\n",
    "#     \"Rate Limit (s)\": max(len(\"Rate Limit (s)\"), max(len(data[\"Rate Limit (s)\"]) for data in rate_limit_data)),\n",
    "#     \"Requests per Second\": max(len(\"Requests per Second\"), max(len(data[\"Requests per Second\"]) for data in rate_limit_data)),\n",
    "# }\n",
    "\n",
    "# # Print the markdown table header with adjusted column widths\n",
    "# print(f\"| {'Exchange'.ljust(max_lengths['Exchange'])} | \"\n",
    "#       f\"{'Rate Limit (ms)'.ljust(max_lengths['Rate Limit (ms)'])} | \"\n",
    "#       f\"{'Rate Limit (s)'.ljust(max_lengths['Rate Limit (s)'])} | \"\n",
    "#       f\"{'Requests per Second'.ljust(max_lengths['Requests per Second'])} | \"\n",
    "#       f\"{'Rank (Fastest)'} |\")\n",
    "# print(f\"|{'-' * (max_lengths['Exchange'] + 2)}|\"\n",
    "#       f\"{'-' * (max_lengths['Rate Limit (ms)'] + 2)}|\"\n",
    "#       f\"{'-' * (max_lengths['Rate Limit (s)'] + 2)}|\"\n",
    "#       f\"{'-' * (max_lengths['Requests per Second'] + 2)}|\"\n",
    "#       f\"{'-' * 17}|\")\n",
    "\n",
    "# # Print the markdown table rows with adjusted column widths\n",
    "# for idx, data in enumerate(rate_limit_data):\n",
    "#     print(f\"| {data['Exchange'].ljust(max_lengths['Exchange'])} | \"\n",
    "#           f\"{str(data['Rate Limit (ms)']).ljust(max_lengths['Rate Limit (ms)'])} | \"\n",
    "#           f\"{data['Rate Limit (s)'].ljust(max_lengths['Rate Limit (s)'])} | \"\n",
    "#           f\"{data['Requests per Second'].ljust(max_lengths['Requests per Second'])} | \"\n",
    "#           f\"{idx + 1} |\")\n"
   ]
  },
  {
   "cell_type": "markdown",
   "metadata": {},
   "source": [
    "updated data_fetching_code ---- use ticker_values instead"
   ]
  },
  {
   "cell_type": "code",
   "execution_count": 1,
   "metadata": {},
   "outputs": [],
   "source": [
    "# import asyncio\n",
    "# import logging\n",
    "# from ratelimit import limits, sleep_and_retry\n",
    "# import ccxt.async_support as ccxt_async\n",
    "# from datetime import datetime\n",
    "\n",
    "# logger = logging.getLogger(__name__)\n",
    "\n",
    "# class DataFetcher:\n",
    "#     def __init__(self, exchanges):\n",
    "#         self.exchanges = exchanges\n",
    "#         self.trading_pairs = ['BTC/USD', 'ETH/USD', 'ETH/BTC', 'LTC/USD', 'XRP/USD']\n",
    "#         self.semaphores = {}\n",
    "#         self.rate_limits = {\n",
    "#             'coinbase': 3,\n",
    "#             'bitflyer': 1,\n",
    "#             'gemini': 1,\n",
    "#             'kraken': 1,\n",
    "#             'bitstamp': 2,\n",
    "#         }\n",
    "\n",
    "#     async def fetch_ticker_async(self, exchange_name, exchange, symbol):\n",
    "#         async with self.semaphores[exchange_name]:\n",
    "#             try:\n",
    "#                 logger.debug(f\"Attempting to fetch {symbol} from {exchange_name}\")\n",
    "#                 async with exchange() as exchange_instance:\n",
    "#                     await exchange_instance.load_markets()\n",
    "#                     if symbol not in exchange_instance.markets:\n",
    "#                         logger.warning(f\"{exchange_name} does not support {symbol}\")\n",
    "#                         return None\n",
    "\n",
    "#                     ticker = await exchange_instance.fetch_ticker(symbol)\n",
    "\n",
    "#                     # Fallback to server time for Kraken if timestamp is missing\n",
    "#                     if exchange_name == 'kraken':\n",
    "#                         if ticker['timestamp'] is None and ticker['datetime'] is None:\n",
    "#                             server_time = await exchange_instance.fetch_time()\n",
    "#                             logger.debug(f\"Using Kraken server time as fallback: {server_time}\")\n",
    "#                             formatted_time = self.format_timestamp(server_time)\n",
    "#                         else:\n",
    "#                             timestamp = ticker['timestamp'] if ticker['timestamp'] else exchange_instance.parse8601(ticker['datetime'])\n",
    "#                             formatted_time = self.format_timestamp(timestamp)\n",
    "#                     else:\n",
    "#                         timestamp = ticker['timestamp'] if ticker['timestamp'] else exchange_instance.parse8601(ticker['datetime'])\n",
    "#                         formatted_time = self.format_timestamp(timestamp)\n",
    "\n",
    "#                     logger.debug(f\"Successfully fetched {symbol} from {exchange_name}\")\n",
    "#                     logger.debug(f\"Raw ticker data for {symbol} from {exchange_name}: {ticker}\")\n",
    "                    \n",
    "#                     processed_ticker = {\n",
    "#                         'exchange': exchange_name,\n",
    "#                         'symbol': ticker['symbol'],\n",
    "#                         'timestamp': formatted_time,\n",
    "#                         'bid': ticker['bid'],\n",
    "#                         'ask': ticker['ask'],\n",
    "#                         'last': ticker['last'],\n",
    "#                         'high': ticker.get('high'),\n",
    "#                         'low': ticker.get('low'),\n",
    "#                         'volume': ticker.get('baseVolume'),\n",
    "#                     }\n",
    "\n",
    "#                     logger.debug(f\"Processed ticker data for {symbol} from {exchange_name}: {processed_ticker}\")\n",
    "#                     return processed_ticker\n",
    "#             except ccxt_async.NetworkError as e:\n",
    "#                 logger.error(f\"Network error fetching {symbol} from {exchange_name}: {str(e)}\")\n",
    "#             except ccxt_async.ExchangeError as e:\n",
    "#                 logger.error(f\"Exchange error fetching {symbol} from {exchange_name}: {str(e)}\")\n",
    "#             except Exception as e:\n",
    "#                 logger.error(f\"Unexpected error fetching {symbol} from {exchange_name}: {str(e)}\")\n",
    "#             return None\n",
    "\n",
    "#     async def fetch_all_tickers_async(self):\n",
    "#         tasks = []\n",
    "#         for exchange_name, exchange_class in self.exchanges.items():\n",
    "#             exchange = getattr(ccxt_async, exchange_class.__name__)\n",
    "#             rate_limit = self.rate_limits.get(exchange_name, 1)\n",
    "#             self.semaphores[exchange_name] = asyncio.Semaphore(rate_limit)\n",
    "#             for symbol in self.trading_pairs:\n",
    "#                 tasks.append(self.fetch_ticker_async(exchange_name, exchange, symbol))\n",
    "        \n",
    "#         results = await asyncio.gather(*tasks, return_exceptions=True)\n",
    "#         valid_results = [r for r in results if r is not None and not isinstance(r, Exception)]\n",
    "#         logger.info(f\"Fetched {len(valid_results)} valid tickers out of {len(results)} attempts\")\n",
    "#         return valid_results\n",
    "\n",
    "#     def get_min_rate_limit(self):\n",
    "#         return min(self.rate_limits.values())\n",
    "\n",
    "#     def format_timestamp(self, timestamp):\n",
    "#         \"\"\"Convert the timestamp to the format: YYYY-MM-DD HH:MM:SS.SSS\"\"\"\n",
    "#         dt = datetime.utcfromtimestamp(timestamp / 1000)  # convert from milliseconds to seconds\n",
    "#         return dt.strftime('%Y-%m-%d %H:%M:%S.%f')[:-3]  # format and trim to milliseconds\n"
   ]
  },
  {
   "cell_type": "markdown",
   "metadata": {},
   "source": []
  },
  {
   "cell_type": "markdown",
   "metadata": {},
   "source": [
    "debugging_Data_fetching_python_code"
   ]
  },
  {
   "cell_type": "code",
   "execution_count": 1,
   "metadata": {},
   "outputs": [
    {
     "name": "stderr",
     "output_type": "stream",
     "text": [
      "INFO:__main__:Updated rate limits: {'coinbase': 29, 'bitflyer': 1, 'gemini': 10, 'kraken': 1, 'bitstamp': 13}\n",
      "INFO:__main__:Updated rate limits: {'coinbase': 29, 'bitflyer': 1, 'gemini': 10, 'kraken': 1, 'bitstamp': 13}\n"
     ]
    },
    {
     "ename": "TypeError",
     "evalue": "unsupported operand type(s) for +: 'NoneType' and 'str'",
     "output_type": "error",
     "traceback": [
      "\u001b[0;31m---------------------------------------------------------------------------\u001b[0m",
      "\u001b[0;31mTypeError\u001b[0m                                 Traceback (most recent call last)",
      "Cell \u001b[0;32mIn[1], line 90\u001b[0m\n\u001b[1;32m     87\u001b[0m fetcher \u001b[38;5;241m=\u001b[39m DataFetcher(exchanges)\n\u001b[1;32m     89\u001b[0m \u001b[38;5;66;03m# Ensure that the top-level code is awaited properly\u001b[39;00m\n\u001b[0;32m---> 90\u001b[0m result \u001b[38;5;241m=\u001b[39m \u001b[38;5;28;01mawait\u001b[39;00m fetcher\u001b[38;5;241m.\u001b[39mfetch_all_tickers()\n\u001b[1;32m     92\u001b[0m \u001b[38;5;28mprint\u001b[39m(\u001b[38;5;124m\"\u001b[39m\u001b[38;5;124mAll tickers fetched:\u001b[39m\u001b[38;5;124m\"\u001b[39m)\n\u001b[1;32m     93\u001b[0m \u001b[38;5;28mprint\u001b[39m(result)\n",
      "Cell \u001b[0;32mIn[1], line 68\u001b[0m, in \u001b[0;36mDataFetcher.fetch_all_tickers\u001b[0;34m(self)\u001b[0m\n\u001b[1;32m     66\u001b[0m \u001b[38;5;28;01masync\u001b[39;00m \u001b[38;5;28;01mdef\u001b[39;00m \u001b[38;5;21mfetch_all_tickers\u001b[39m(\u001b[38;5;28mself\u001b[39m):\n\u001b[1;32m     67\u001b[0m     \u001b[38;5;28;01mtry\u001b[39;00m:\n\u001b[0;32m---> 68\u001b[0m         \u001b[38;5;28;01mreturn\u001b[39;00m \u001b[38;5;28;01mawait\u001b[39;00m \u001b[38;5;28mself\u001b[39m\u001b[38;5;241m.\u001b[39mfetch_all_tickers_async()\n\u001b[1;32m     69\u001b[0m     \u001b[38;5;28;01mfinally\u001b[39;00m:\n\u001b[1;32m     70\u001b[0m         \u001b[38;5;28;01mawait\u001b[39;00m \u001b[38;5;28mself\u001b[39m\u001b[38;5;241m.\u001b[39mclose_exchanges()\n",
      "Cell \u001b[0;32mIn[1], line 52\u001b[0m, in \u001b[0;36mDataFetcher.fetch_all_tickers_async\u001b[0;34m(self)\u001b[0m\n\u001b[1;32m     50\u001b[0m tasks \u001b[38;5;241m=\u001b[39m []\n\u001b[1;32m     51\u001b[0m \u001b[38;5;28;01mfor\u001b[39;00m exchange_name, exchange \u001b[38;5;129;01min\u001b[39;00m \u001b[38;5;28mself\u001b[39m\u001b[38;5;241m.\u001b[39mexchanges\u001b[38;5;241m.\u001b[39mitems():\n\u001b[0;32m---> 52\u001b[0m     \u001b[38;5;28;01mawait\u001b[39;00m exchange\u001b[38;5;241m.\u001b[39mload_markets()\n\u001b[1;32m     53\u001b[0m     \u001b[38;5;28;01mfor\u001b[39;00m symbol \u001b[38;5;129;01min\u001b[39;00m exchange\u001b[38;5;241m.\u001b[39msymbols:\n\u001b[1;32m     54\u001b[0m         tasks\u001b[38;5;241m.\u001b[39mappend(\u001b[38;5;28mself\u001b[39m\u001b[38;5;241m.\u001b[39mfetch_ticker_async(exchange_name, symbol))\n",
      "File \u001b[0;32m~/Library/Caches/pypoetry/virtualenvs/source-XZT3_XTP-py3.12/lib/python3.12/site-packages/ccxt/async_support/base/exchange.py:287\u001b[0m, in \u001b[0;36mExchange.load_markets\u001b[0;34m(self, reload, params)\u001b[0m\n\u001b[1;32m    285\u001b[0m     \u001b[38;5;28mself\u001b[39m\u001b[38;5;241m.\u001b[39mreloading_markets \u001b[38;5;241m=\u001b[39m \u001b[38;5;28;01mFalse\u001b[39;00m\n\u001b[1;32m    286\u001b[0m     \u001b[38;5;28mself\u001b[39m\u001b[38;5;241m.\u001b[39mmarkets_loading \u001b[38;5;241m=\u001b[39m \u001b[38;5;28;01mNone\u001b[39;00m\n\u001b[0;32m--> 287\u001b[0m     \u001b[38;5;28;01mraise\u001b[39;00m e\n\u001b[1;32m    288\u001b[0m \u001b[38;5;28mself\u001b[39m\u001b[38;5;241m.\u001b[39mreloading_markets \u001b[38;5;241m=\u001b[39m \u001b[38;5;28;01mFalse\u001b[39;00m\n\u001b[1;32m    289\u001b[0m \u001b[38;5;28;01mreturn\u001b[39;00m result\n",
      "File \u001b[0;32m~/Library/Caches/pypoetry/virtualenvs/source-XZT3_XTP-py3.12/lib/python3.12/site-packages/ccxt/async_support/base/exchange.py:283\u001b[0m, in \u001b[0;36mExchange.load_markets\u001b[0;34m(self, reload, params)\u001b[0m\n\u001b[1;32m    281\u001b[0m     \u001b[38;5;28mself\u001b[39m\u001b[38;5;241m.\u001b[39mmarkets_loading \u001b[38;5;241m=\u001b[39m asyncio\u001b[38;5;241m.\u001b[39mensure_future(coroutine)\n\u001b[1;32m    282\u001b[0m \u001b[38;5;28;01mtry\u001b[39;00m:\n\u001b[0;32m--> 283\u001b[0m     result \u001b[38;5;241m=\u001b[39m \u001b[38;5;28;01mawait\u001b[39;00m \u001b[38;5;28mself\u001b[39m\u001b[38;5;241m.\u001b[39mmarkets_loading\n\u001b[1;32m    284\u001b[0m \u001b[38;5;28;01mexcept\u001b[39;00m \u001b[38;5;167;01mException\u001b[39;00m \u001b[38;5;28;01mas\u001b[39;00m e:\n\u001b[1;32m    285\u001b[0m     \u001b[38;5;28mself\u001b[39m\u001b[38;5;241m.\u001b[39mreloading_markets \u001b[38;5;241m=\u001b[39m \u001b[38;5;28;01mFalse\u001b[39;00m\n",
      "File \u001b[0;32m~/Library/Caches/pypoetry/virtualenvs/source-XZT3_XTP-py3.12/lib/python3.12/site-packages/ccxt/async_support/base/exchange.py:273\u001b[0m, in \u001b[0;36mExchange.load_markets_helper\u001b[0;34m(self, reload, params)\u001b[0m\n\u001b[1;32m    271\u001b[0m \u001b[38;5;28;01mif\u001b[39;00m \u001b[38;5;28mself\u001b[39m\u001b[38;5;241m.\u001b[39mhas[\u001b[38;5;124m'\u001b[39m\u001b[38;5;124mfetchCurrencies\u001b[39m\u001b[38;5;124m'\u001b[39m] \u001b[38;5;129;01mis\u001b[39;00m \u001b[38;5;28;01mTrue\u001b[39;00m:\n\u001b[1;32m    272\u001b[0m     currencies \u001b[38;5;241m=\u001b[39m \u001b[38;5;28;01mawait\u001b[39;00m \u001b[38;5;28mself\u001b[39m\u001b[38;5;241m.\u001b[39mfetch_currencies()\n\u001b[0;32m--> 273\u001b[0m markets \u001b[38;5;241m=\u001b[39m \u001b[38;5;28;01mawait\u001b[39;00m \u001b[38;5;28mself\u001b[39m\u001b[38;5;241m.\u001b[39mfetch_markets(params)\n\u001b[1;32m    274\u001b[0m \u001b[38;5;28;01mreturn\u001b[39;00m \u001b[38;5;28mself\u001b[39m\u001b[38;5;241m.\u001b[39mset_markets(markets, currencies)\n",
      "File \u001b[0;32m~/Library/Caches/pypoetry/virtualenvs/source-XZT3_XTP-py3.12/lib/python3.12/site-packages/ccxt/async_support/gemini.py:427\u001b[0m, in \u001b[0;36mgemini.fetch_markets\u001b[0;34m(self, params)\u001b[0m\n\u001b[1;32m    425\u001b[0m     promisesResult \u001b[38;5;241m=\u001b[39m \u001b[38;5;28;01mawait\u001b[39;00m asyncio\u001b[38;5;241m.\u001b[39mgather(\u001b[38;5;241m*\u001b[39mpromises)\n\u001b[1;32m    426\u001b[0m     \u001b[38;5;28;01mreturn\u001b[39;00m \u001b[38;5;28mself\u001b[39m\u001b[38;5;241m.\u001b[39marray_concat(promisesResult[\u001b[38;5;241m0\u001b[39m], promisesResult[\u001b[38;5;241m1\u001b[39m])\n\u001b[0;32m--> 427\u001b[0m \u001b[38;5;28;01mreturn\u001b[39;00m \u001b[38;5;28;01mawait\u001b[39;00m \u001b[38;5;28mself\u001b[39m\u001b[38;5;241m.\u001b[39mfetch_markets_from_api(params)\n",
      "File \u001b[0;32m~/Library/Caches/pypoetry/virtualenvs/source-XZT3_XTP-py3.12/lib/python3.12/site-packages/ccxt/async_support/gemini.py:599\u001b[0m, in \u001b[0;36mgemini.fetch_markets_from_api\u001b[0;34m(self, params)\u001b[0m\n\u001b[1;32m    597\u001b[0m         tradingPair \u001b[38;5;241m=\u001b[39m \u001b[38;5;28mself\u001b[39m\u001b[38;5;241m.\u001b[39msafe_list(indexedTradingPairs, marketId\u001b[38;5;241m.\u001b[39mupper())\n\u001b[1;32m    598\u001b[0m         \u001b[38;5;28;01mif\u001b[39;00m tradingPair \u001b[38;5;129;01mis\u001b[39;00m \u001b[38;5;129;01mnot\u001b[39;00m \u001b[38;5;28;01mNone\u001b[39;00m:\n\u001b[0;32m--> 599\u001b[0m             result\u001b[38;5;241m.\u001b[39mappend(\u001b[38;5;28;43mself\u001b[39;49m\u001b[38;5;241;43m.\u001b[39;49m\u001b[43mparse_market\u001b[49m\u001b[43m(\u001b[49m\u001b[43mtradingPair\u001b[49m\u001b[43m)\u001b[49m)\n\u001b[1;32m    600\u001b[0m \u001b[38;5;28;01melse\u001b[39;00m:\n\u001b[1;32m    601\u001b[0m     \u001b[38;5;28;01mfor\u001b[39;00m i \u001b[38;5;129;01min\u001b[39;00m \u001b[38;5;28mrange\u001b[39m(\u001b[38;5;241m0\u001b[39m, \u001b[38;5;28mlen\u001b[39m(marketIds)):\n",
      "File \u001b[0;32m~/Library/Caches/pypoetry/virtualenvs/source-XZT3_XTP-py3.12/lib/python3.12/site-packages/ccxt/async_support/gemini.py:695\u001b[0m, in \u001b[0;36mgemini.parse_market\u001b[0;34m(self, response)\u001b[0m\n\u001b[1;32m    693\u001b[0m quote \u001b[38;5;241m=\u001b[39m \u001b[38;5;28mself\u001b[39m\u001b[38;5;241m.\u001b[39msafe_currency_code(quoteId)\n\u001b[1;32m    694\u001b[0m settle \u001b[38;5;241m=\u001b[39m \u001b[38;5;28mself\u001b[39m\u001b[38;5;241m.\u001b[39msafe_currency_code(settleId)\n\u001b[0;32m--> 695\u001b[0m symbol \u001b[38;5;241m=\u001b[39m \u001b[43mbase\u001b[49m\u001b[43m \u001b[49m\u001b[38;5;241;43m+\u001b[39;49m\u001b[43m \u001b[49m\u001b[38;5;124;43m'\u001b[39;49m\u001b[38;5;124;43m/\u001b[39;49m\u001b[38;5;124;43m'\u001b[39;49m \u001b[38;5;241m+\u001b[39m quote\n\u001b[1;32m    696\u001b[0m \u001b[38;5;28;01mif\u001b[39;00m settleId \u001b[38;5;129;01mis\u001b[39;00m \u001b[38;5;129;01mnot\u001b[39;00m \u001b[38;5;28;01mNone\u001b[39;00m:\n\u001b[1;32m    697\u001b[0m     symbol \u001b[38;5;241m=\u001b[39m symbol \u001b[38;5;241m+\u001b[39m \u001b[38;5;124m'\u001b[39m\u001b[38;5;124m:\u001b[39m\u001b[38;5;124m'\u001b[39m \u001b[38;5;241m+\u001b[39m settle\n",
      "\u001b[0;31mTypeError\u001b[0m: unsupported operand type(s) for +: 'NoneType' and 'str'"
     ]
    }
   ],
   "source": [
    "import ccxt.async_support as ccxt\n",
    "import logging\n",
    "import asyncio\n",
    "from rate_limit_checker import get_rate_limits\n",
    "import time\n",
    "\n",
    "# Setup logger\n",
    "logging.basicConfig(level=logging.INFO)\n",
    "logger = logging.getLogger(__name__)\n",
    "\n",
    "class DataFetcher:\n",
    "    def __init__(self, exchanges):\n",
    "        self.exchanges = {name: getattr(ccxt, exchange_class.__name__)({'enableRateLimit': True}) for name, exchange_class in exchanges.items()}\n",
    "        self.rate_limits = {}\n",
    "        self.update_rate_limits()\n",
    "\n",
    "    def update_rate_limits(self):\n",
    "        rate_limit_data = get_rate_limits()\n",
    "        for exchange, data in rate_limit_data.items():\n",
    "            self.rate_limits[exchange] = max(1, int(data['requests_per_second']))\n",
    "        logger.info(f\"Updated rate limits: {self.rate_limits}\")\n",
    "\n",
    "    async def fetch_ticker_async(self, exchange_name, symbol):\n",
    "        try:\n",
    "            exchange = self.exchanges[exchange_name]\n",
    "            logger.info(f\"Fetching {symbol} from {exchange_name}\")\n",
    "            \n",
    "            await exchange.load_markets()\n",
    "            ticker = await exchange.fetch_ticker(symbol)\n",
    "            \n",
    "            processed_data = {\n",
    "                'exchange': exchange_name,\n",
    "                'symbol': symbol,\n",
    "                'timestamp': ticker['timestamp'] or int(time.time() * 1000),\n",
    "            }\n",
    "\n",
    "            # Dynamically add all available fields from the ticker\n",
    "            for key, value in ticker.items():\n",
    "                if key not in processed_data:\n",
    "                    processed_data[key] = value\n",
    "\n",
    "            logger.info(f\"Processed data for {symbol} from {exchange_name}: {processed_data}\")\n",
    "            return processed_data\n",
    "        except Exception as e:\n",
    "            logger.error(f\"Error fetching {symbol} from {exchange_name}: {str(e)}\")\n",
    "            return None\n",
    "\n",
    "    async def fetch_all_tickers_async(self):\n",
    "        self.update_rate_limits()\n",
    "        tasks = []\n",
    "        for exchange_name, exchange in self.exchanges.items():\n",
    "            await exchange.load_markets()\n",
    "            for symbol in exchange.symbols:\n",
    "                tasks.append(self.fetch_ticker_async(exchange_name, symbol))\n",
    "        \n",
    "        results = await asyncio.gather(*tasks, return_exceptions=True)\n",
    "        valid_results = [r for r in results if r is not None and not isinstance(r, Exception)]\n",
    "        \n",
    "        logger.info(f\"Fetched {len(valid_results)} valid tickers\")\n",
    "        return valid_results\n",
    "\n",
    "    async def close_exchanges(self):\n",
    "        for exchange in self.exchanges.values():\n",
    "            await exchange.close()\n",
    "\n",
    "    async def fetch_all_tickers(self):\n",
    "        try:\n",
    "            return await self.fetch_all_tickers_async()\n",
    "        finally:\n",
    "            await self.close_exchanges()\n",
    "\n",
    "    def get_min_rate_limit(self):\n",
    "        return min(self.rate_limits.values()) if self.rate_limits else 1\n",
    "\n",
    "# Example usage in a Jupyter Notebook\n",
    "if __name__ == \"__main__\":\n",
    "    # Define the exchanges\n",
    "    exchanges = {\n",
    "        'kraken': ccxt.kraken,\n",
    "        'coinbase': ccxt.coinbase,\n",
    "        'bitflyer': ccxt.bitflyer,\n",
    "        'gemini': ccxt.gemini,\n",
    "        'bitstamp': ccxt.bitstamp\n",
    "    }\n",
    "\n",
    "    # Initialize the DataFetcher\n",
    "    fetcher = DataFetcher(exchanges)\n",
    "\n",
    "    # Ensure that the top-level code is awaited properly\n",
    "    result = await fetcher.fetch_all_tickers()\n",
    "\n",
    "    print(\"All tickers fetched:\")\n",
    "    print(result)\n"
   ]
  },
  {
   "cell_type": "code",
   "execution_count": null,
   "metadata": {},
   "outputs": [],
   "source": []
  },
  {
   "cell_type": "code",
   "execution_count": 12,
   "metadata": {},
   "outputs": [
    {
     "name": "stdout",
     "output_type": "stream",
     "text": [
      "['ace', 'alpaca', 'ascendex', 'bequant', 'bigone', 'binance', 'binancecoinm', 'binanceus', 'binanceusdm', 'bingx', 'bit2c', 'bitbank', 'bitbay', 'bitbns', 'bitcoincom', 'bitfinex', 'bitfinex2', 'bitflyer', 'bitget', 'bithumb', 'bitmart', 'bitmex', 'bitopro', 'bitpanda', 'bitrue', 'bitso', 'bitstamp', 'bitteam', 'bitvavo', 'bl3p', 'blockchaincom', 'blofin', 'btcalpha', 'btcbox', 'btcmarkets', 'btcturk', 'bybit', 'cex', 'coinbase', 'coinbaseadvanced', 'coinbaseexchange', 'coinbaseinternational', 'coincheck', 'coinex', 'coinlist', 'coinmate', 'coinmetro', 'coinone', 'coinsph', 'coinspot', 'cryptocom', 'currencycom', 'delta', 'deribit', 'digifinex', 'exmo', 'fmfwio', 'gate', 'gateio', 'gemini', 'hitbtc', 'hitbtc3', 'hollaex', 'htx', 'huobi', 'huobijp', 'hyperliquid', 'idex', 'independentreserve', 'indodax', 'kraken', 'krakenfutures', 'kucoin', 'kucoinfutures', 'kuna', 'latoken', 'lbank', 'luno', 'lykke', 'mercado', 'mexc', 'ndax', 'novadax', 'oceanex', 'okcoin', 'okx', 'onetrading', 'oxfun', 'p2b', 'paradex', 'paymium', 'phemex', 'poloniex', 'poloniexfutures', 'probit', 'timex', 'tokocrypto', 'tradeogre', 'upbit', 'vertex', 'wavesexchange', 'wazirx', 'whitebit', 'woo', 'woofipro', 'xt', 'yobit', 'zaif', 'zonda']\n"
     ]
    }
   ],
   "source": [
    "# import ccxt\n",
    "# from dotenv import load_dotenv\n",
    "# import os\n",
    "# # Load environment variables from .env file\n",
    "# load_dotenv()\n",
    "# print(ccxt.exchanges)"
   ]
  },
  {
   "cell_type": "markdown",
   "metadata": {},
   "source": [
    "COINBASE"
   ]
  },
  {
   "cell_type": "code",
   "execution_count": 13,
   "metadata": {},
   "outputs": [
    {
     "name": "stdout",
     "output_type": "stream",
     "text": [
      "{'symbol': 'BTC/USD', 'timestamp': 1723889528806, 'datetime': '2024-08-17T10:12:08.806600Z', 'bid': 59230.79, 'ask': 59232.97, 'last': 59224.63, 'high': None, 'low': None, 'bidVolume': None, 'askVolume': None, 'vwap': None, 'open': None, 'close': 59224.63, 'previousClose': None, 'change': None, 'percentage': None, 'average': None, 'baseVolume': None, 'quoteVolume': None, 'info': {'trade_id': '681781505', 'product_id': 'BTC-USD', 'price': '59224.63', 'size': '0.00453785', 'time': '2024-08-17T10:12:08.806600Z', 'side': 'SELL', 'bid': '', 'ask': ''}}\n"
     ]
    }
   ],
   "source": [
    "# # Replace escaped newline characters with actual newline characters\n",
    "# secret_key = os.getenv(\"COINBASE_SECRET\").replace(\"\\\\n\", \"\\n\")\n",
    "\n",
    "# # Set up the Coinbase exchange with the corrected secret\n",
    "# exchange = ccxt.coinbase({\n",
    "#     \"apiKey\": os.getenv(\"COINBASE_API_KEY\"),\n",
    "#     \"secret\": secret_key,\n",
    "#     \"enableRateLimit\": True\n",
    "# })\n",
    "\n",
    "# # print(exchange.apiKey)\n",
    "# # print(exchange.secret)\n",
    "# markets = exchange.load_markets()\n",
    "# ticker = exchange.fetch_ticker('BTC/USD')\n",
    "# print(ticker)"
   ]
  },
  {
   "cell_type": "markdown",
   "metadata": {},
   "source": [
    "BITFLYER"
   ]
  },
  {
   "cell_type": "code",
   "execution_count": 10,
   "metadata": {},
   "outputs": [
    {
     "name": "stdout",
     "output_type": "stream",
     "text": [
      "{'symbol': 'BTC/USD', 'timestamp': 1723889473717, 'datetime': '2024-08-17T10:11:13.717Z', 'high': None, 'low': None, 'bid': 59037.81, 'bidVolume': None, 'ask': 59257.24, 'askVolume': None, 'vwap': None, 'open': None, 'close': 59135.26, 'last': 59135.26, 'previousClose': None, 'change': None, 'percentage': None, 'average': None, 'baseVolume': 1.62744987, 'quoteVolume': None, 'info': {'product_code': 'BTC_USD', 'state': 'RUNNING', 'timestamp': '2024-08-17T10:11:13.717', 'tick_id': '1157837', 'best_bid': '59037.81', 'best_ask': '59257.24', 'best_bid_size': '0.39967953', 'best_ask_size': '0.02635917', 'total_bid_depth': '3.29233419', 'total_ask_depth': '3.92830747', 'market_bid_size': '0.0', 'market_ask_size': '0.0', 'ltp': '59135.26', 'volume': '1.62744987', 'volume_by_product': '1.62744987'}}\n"
     ]
    }
   ],
   "source": [
    "# # Replace escaped newline characters with actual newline characters\n",
    "# secret_key = os.getenv(\"BITFLYER_SECRET\").replace(\"\\\\n\", \"\\n\")\n",
    "\n",
    "# # Set up the Bitflyer exchange with the corrected secret\n",
    "# exchange = ccxt.bitflyer({\n",
    "#     \"apiKey\": os.getenv(\"BITFLYER_API_KEY\"),\n",
    "#     \"secret\": secret_key,\n",
    "#     \"enableRateLimit\": True\n",
    "# })\n",
    "\n",
    "# # Load markets and fetch ticker\n",
    "# markets = exchange.load_markets()\n",
    "# ticker = exchange.fetch_ticker('BTC/USD')\n",
    "# print(ticker)"
   ]
  },
  {
   "cell_type": "markdown",
   "metadata": {},
   "source": [
    "GEMINI"
   ]
  },
  {
   "cell_type": "code",
   "execution_count": 9,
   "metadata": {},
   "outputs": [
    {
     "name": "stdout",
     "output_type": "stream",
     "text": [
      "{'symbol': 'BTC/USD', 'timestamp': 1723889470000, 'datetime': '2024-08-17T10:11:10.000Z', 'high': None, 'low': None, 'bid': 59218.38, 'bidVolume': None, 'ask': 59218.39, 'askVolume': None, 'vwap': 59205.04, 'open': None, 'close': 59205.04, 'last': 59205.04, 'previousClose': None, 'change': None, 'percentage': None, 'average': None, 'baseVolume': 487.05360127, 'quoteVolume': 28836027.9453344, 'info': {'bid': '59218.38', 'ask': '59218.39', 'last': '59205.04', 'volume': {'BTC': '487.05360127', 'USD': '28836027.9453344008', 'timestamp': '1723889470000'}}}\n"
     ]
    }
   ],
   "source": [
    "# # Replace escaped newline characters with actual newline characters\n",
    "# secret_key = os.getenv(\"GEMINI_SECRET\").replace(\"\\\\n\", \"\\n\")\n",
    "\n",
    "# # Set up the Gemini exchange with the corrected secret\n",
    "# exchange = ccxt.gemini({\n",
    "#     \"apiKey\": os.getenv(\"GEMINI_API_KEY\"),\n",
    "#     \"secret\": secret_key,\n",
    "#     \"enableRateLimit\": True\n",
    "# })\n",
    "\n",
    "# # Load markets and fetch ticker\n",
    "# markets = exchange.load_markets()\n",
    "# ticker = exchange.fetch_ticker('BTC/USD')\n",
    "# print(ticker)"
   ]
  },
  {
   "cell_type": "markdown",
   "metadata": {},
   "source": [
    "KRAKEN\n"
   ]
  },
  {
   "cell_type": "code",
   "execution_count": 8,
   "metadata": {},
   "outputs": [
    {
     "name": "stdout",
     "output_type": "stream",
     "text": [
      "{'symbol': 'BTC/USD', 'timestamp': None, 'datetime': None, 'high': 59800.0, 'low': 57514.7, 'bid': 59224.6, 'bidVolume': None, 'ask': 59224.7, 'askVolume': None, 'vwap': 58866.07378, 'open': 58895.6, 'close': 59224.6, 'last': 59224.6, 'previousClose': None, 'change': 329.0, 'percentage': 0.558615584186255, 'average': 59060.1, 'baseVolume': 1377.40043753, 'quoteVolume': 81082155.78024526, 'info': {'a': ['59224.70000', '20', '20.000'], 'b': ['59224.60000', '1', '1.000'], 'c': ['59224.60000', '0.00039006'], 'v': ['150.58038612', '1377.40043753'], 'p': ['59263.63571', '58866.07378'], 't': ['4501', '20620'], 'l': ['58812.40000', '57514.70000'], 'h': ['59482.50000', '59800.00000'], 'o': '58895.60000'}}\n"
     ]
    }
   ],
   "source": [
    "# # Replace escaped newline characters with actual newline characters\n",
    "# secret_key = os.getenv(\"KRAKEN_SECRET\").replace(\"\\\\n\", \"\\n\")\n",
    "\n",
    "# # Set up the Kraken exchange with the corrected secret\n",
    "# exchange = ccxt.kraken({\n",
    "#     \"apiKey\": os.getenv(\"KRAKEN_API_KEY\"),\n",
    "#     \"secret\": secret_key,\n",
    "#     \"enableRateLimit\": True\n",
    "# })\n",
    "\n",
    "# # Load markets and fetch ticker\n",
    "# markets = exchange.load_markets()\n",
    "# ticker = exchange.fetch_ticker('BTC/USD')\n",
    "# print(ticker)\n"
   ]
  },
  {
   "cell_type": "markdown",
   "metadata": {},
   "source": [
    "BITSTAMP"
   ]
  },
  {
   "cell_type": "code",
   "execution_count": 7,
   "metadata": {},
   "outputs": [
    {
     "name": "stdout",
     "output_type": "stream",
     "text": [
      "{'symbol': 'BTC/USD', 'timestamp': 1723889450000, 'datetime': '2024-08-17T10:10:50.000Z', 'high': 59841.0, 'low': 57550.0, 'bid': 59210.0, 'bidVolume': None, 'ask': 59211.0, 'askVolume': None, 'vwap': 58727.0, 'open': 58883.0, 'close': 59210.0, 'last': 59210.0, 'previousClose': None, 'change': 327.0, 'percentage': 0.5553385527231968, 'average': 59046.0, 'baseVolume': 2395.49706152, 'quoteVolume': 140680355.93188503, 'info': {'timestamp': '1723889450', 'open': '58883', 'high': '59841', 'low': '57550', 'last': '59210', 'volume': '2395.49706152', 'vwap': '58727', 'bid': '59210', 'ask': '59211', 'side': '1', 'open_24': '58482', 'percent_change_24': '1.24'}}\n"
     ]
    }
   ],
   "source": [
    "# # Replace escaped newline characters with actual newline characters\n",
    "# secret_key = os.getenv(\"BITSTAMP_SECRET\").replace(\"\\\\n\", \"\\n\")\n",
    "\n",
    "# # Set up the Bitstamp exchange with the corrected secret\n",
    "# exchange = ccxt.bitstamp({\n",
    "#     \"apiKey\": os.getenv(\"BITSTAMP_API_KEY\"),\n",
    "#     \"secret\": secret_key,\n",
    "#     \"enableRateLimit\": True\n",
    "# })\n",
    "\n",
    "# # Load markets and fetch ticker\n",
    "# markets = exchange.load_markets()\n",
    "# ticker = exchange.fetch_ticker('BTC/USD')\n",
    "# print(ticker)\n"
   ]
  }
 ],
 "metadata": {
  "kernelspec": {
   "display_name": "source-XZT3_XTP-py3.12",
   "language": "python",
   "name": "python3"
  },
  "language_info": {
   "codemirror_mode": {
    "name": "ipython",
    "version": 3
   },
   "file_extension": ".py",
   "mimetype": "text/x-python",
   "name": "python",
   "nbconvert_exporter": "python",
   "pygments_lexer": "ipython3",
   "version": "3.12.11"
  }
 },
 "nbformat": 4,
 "nbformat_minor": 2
}
